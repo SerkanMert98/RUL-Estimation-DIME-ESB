{
 "cells": [
  {
   "cell_type": "markdown",
   "id": "6ecb732a-fbf9-4109-bb2c-9259ce448cae",
   "metadata": {},
   "source": [
    "# Descriptive Statistics"
   ]
  },
  {
   "cell_type": "markdown",
   "id": "f6c6d77b-e08d-4336-90bd-2b514d18a53c",
   "metadata": {},
   "source": [
    "### Histogram for Data Distribution"
   ]
  },
  {
   "cell_type": "code",
   "execution_count": null,
   "id": "c6404266-dd3f-48db-b85b-4dd7b2a981b9",
   "metadata": {},
   "outputs": [],
   "source": [
    "data.hist(column = 'Force1', label=\"Standard Deviation = %0.3f\" % data['Force1'].std());\n",
    "data.hist(column = 'Force2', label=\"Standard Deviation = %0.3f\" % data['Force2'].std());"
   ]
  },
  {
   "cell_type": "markdown",
   "id": "17f8e887-9658-4719-b3a2-31cfc002e50c",
   "metadata": {},
   "source": [
    "### Position Parameters"
   ]
  },
  {
   "cell_type": "code",
   "execution_count": null,
   "id": "358080fc-ea59-45c4-90ad-a6f31cd0cbcf",
   "metadata": {},
   "outputs": [],
   "source": [
    "# Mean\n",
    "print(data['Force1'].mean())\n",
    "\n",
    "# Mode\n",
    "print(data['Force1'].mode())\n",
    "\n",
    "# Median \n",
    "print(data['Force1'].median())\n",
    "\n",
    "# Mean\n",
    "print(data['Force2'].mean())\n",
    "\n",
    "# Mode\n",
    "print(data['Force2'].mode())\n",
    "\n",
    "# Median \n",
    "print(data['Force2'].median())"
   ]
  },
  {
   "cell_type": "markdown",
   "id": "38e9dcd1-798b-450d-a6bb-51c252dee22f",
   "metadata": {},
   "source": [
    "### Dispersion Parameters"
   ]
  },
  {
   "cell_type": "code",
   "execution_count": null,
   "id": "ac927187-fc57-4a0f-b2ca-22cf3b0ffea3",
   "metadata": {},
   "outputs": [],
   "source": [
    "# Variance\n",
    "print(data['Force1'].var())\n",
    "\n",
    "# Standard Deviation\n",
    "print(data['Force1'].std())\n",
    "\n",
    "# Skewness \n",
    "print(data[\"Force1\"].skew())\n",
    "\n",
    "# Kurtosis\n",
    "print(data[\"Force1\"].kurtosis())\n",
    "\n",
    "# Variance\n",
    "print(data['Force2'].var())\n",
    "\n",
    "# Standard Deviation\n",
    "print(data['Force2'].std())\n",
    "\n",
    "# Skewness \n",
    "print(data[\"Force2\"].skew())\n",
    "\n",
    "# Kurtosis\n",
    "print(data[\"Force2\"].kurtosis())"
   ]
  },
  {
   "cell_type": "markdown",
   "id": "be5bd58f-1d74-484d-a9b3-ace047c2c3c5",
   "metadata": {},
   "source": [
    "### Percentile and Quartile Ranks"
   ]
  },
  {
   "cell_type": "code",
   "execution_count": null,
   "id": "22afb1af-cc29-418a-bd30-29c1410a608b",
   "metadata": {},
   "outputs": [],
   "source": [
    "data.describe()"
   ]
  }
 ],
 "metadata": {
  "kernelspec": {
   "display_name": "hub_serkan_env",
   "language": "python",
   "name": "serkan_env"
  },
  "language_info": {
   "codemirror_mode": {
    "name": "ipython",
    "version": 3
   },
   "file_extension": ".py",
   "mimetype": "text/x-python",
   "name": "python",
   "nbconvert_exporter": "python",
   "pygments_lexer": "ipython3",
   "version": "3.10.2"
  }
 },
 "nbformat": 4,
 "nbformat_minor": 5
}
