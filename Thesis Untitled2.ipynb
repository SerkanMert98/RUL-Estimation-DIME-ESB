{
 "cells": [
  {
   "cell_type": "markdown",
   "id": "31108eaa-5db2-4c0d-a54a-492af8f0280b",
   "metadata": {},
   "source": [
    "# Stationarity / Unit Root Testing"
   ]
  },
  {
   "cell_type": "code",
   "execution_count": 1,
   "id": "91b2d3ce-f8ec-441f-85f8-fcb1c00ab725",
   "metadata": {},
   "outputs": [],
   "source": [
    "from statsmodels.tsa.stattools import adfuller\n",
    "from statsmodels.tsa.stattools import kpss"
   ]
  },
  {
   "cell_type": "markdown",
   "id": "75fdc072-4341-4c5a-ae45-e51239583990",
   "metadata": {},
   "source": [
    "### ADF-Test"
   ]
  },
  {
   "cell_type": "code",
   "execution_count": null,
   "id": "48073e7d-ec4d-4f5a-988c-9b4a051388ce",
   "metadata": {},
   "outputs": [],
   "source": [
    "adfuller(data[\"Force1\"], maxlag=100, autolag=None)\n",
    "adfuller(data[\"Force2\"], maxlag=100, autolag=None)"
   ]
  },
  {
   "cell_type": "markdown",
   "id": "beccfc7c-3c07-4ce9-b105-9760f3ce2a51",
   "metadata": {},
   "source": [
    "### KPSS-Test"
   ]
  },
  {
   "cell_type": "code",
   "execution_count": null,
   "id": "439b4600-7761-4d8a-aa7b-56bcbb202e85",
   "metadata": {},
   "outputs": [],
   "source": [
    "kpss(data[\"Force1\"],regression=\"ct\")\n",
    "kpss(data[\"Force2\"],regression=\"ct\")"
   ]
  },
  {
   "cell_type": "markdown",
   "id": "87670039-627f-4c52-a97d-fd507bbfa507",
   "metadata": {},
   "source": [
    "## KPSS p-value < 0.05; Transform Experimental Data by Differencing of order = 1"
   ]
  },
  {
   "cell_type": "code",
   "execution_count": null,
   "id": "c1384110-9468-4b2c-a498-59c7333bb518",
   "metadata": {},
   "outputs": [],
   "source": [
    "data = data.diff()"
   ]
  },
  {
   "cell_type": "markdown",
   "id": "e7237999-85ec-46b6-9d17-c3434faa6688",
   "metadata": {},
   "source": [
    "### First Value returns as NaN value, since there is no previous value for y(t-1) "
   ]
  },
  {
   "cell_type": "markdown",
   "id": "0741b5dd-c7fd-461f-9c1f-dfb69e802baa",
   "metadata": {},
   "source": [
    "### Drop NaN value"
   ]
  },
  {
   "cell_type": "code",
   "execution_count": null,
   "id": "ef0bec94-cfab-4e14-bc88-f08d2e79d753",
   "metadata": {},
   "outputs": [],
   "source": [
    "data_F1.dropna(how='any', inplace=True)"
   ]
  },
  {
   "cell_type": "markdown",
   "id": "b9b5acda-cfc7-4bec-b8aa-773fc946a032",
   "metadata": {},
   "source": [
    "### Verify for Stationarity again"
   ]
  },
  {
   "cell_type": "code",
   "execution_count": null,
   "id": "7f2e8877-99a0-425b-9ba0-b74d9bdfe916",
   "metadata": {},
   "outputs": [],
   "source": [
    "adfuller(data_F1[\"Force1\"], maxlag=100, autolag=None)\n",
    "adfuller(data_F1[\"Force2\"], maxlag=100, autolag=None)"
   ]
  },
  {
   "cell_type": "code",
   "execution_count": null,
   "id": "f19ce6b3-6bf7-4fd5-8c50-17c373f729c3",
   "metadata": {},
   "outputs": [],
   "source": [
    "kpss(data_F1[\"Force1\"],regression=\"ct\")\n",
    "kpss(data_F1[\"Force2\"],regression=\"ct\")"
   ]
  },
  {
   "cell_type": "markdown",
   "id": "db24bf29-ad3f-4592-a864-004f07f9349a",
   "metadata": {},
   "source": [
    "### Assumption: Experimental Data is stationary; ADF p-value < 0.05 and KPSS p-value > 0.05"
   ]
  }
 ],
 "metadata": {
  "kernelspec": {
   "display_name": "hub_serkan_env",
   "language": "python",
   "name": "serkan_env"
  },
  "language_info": {
   "codemirror_mode": {
    "name": "ipython",
    "version": 3
   },
   "file_extension": ".py",
   "mimetype": "text/x-python",
   "name": "python",
   "nbconvert_exporter": "python",
   "pygments_lexer": "ipython3",
   "version": "3.10.2"
  }
 },
 "nbformat": 4,
 "nbformat_minor": 5
}
