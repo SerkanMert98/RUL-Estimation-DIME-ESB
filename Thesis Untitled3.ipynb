{
 "cells": [
  {
   "cell_type": "markdown",
   "id": "e8b6d22a-5a97-4ed6-a242-286dff8757ee",
   "metadata": {},
   "source": [
    "# LSTM Candidate Model"
   ]
  },
  {
   "cell_type": "code",
   "execution_count": null,
   "id": "6b7f7b53-238a-4fb0-94c5-1871aab297ff",
   "metadata": {},
   "outputs": [],
   "source": [
    "from tensorflow.keras.models import Model"
   ]
  },
  {
   "cell_type": "code",
   "execution_count": null,
   "id": "b618ec2b-df59-4fd1-bd0c-8b7ac1b0ad76",
   "metadata": {},
   "outputs": [],
   "source": [
    "model = Sequential()\n",
    "model.add(LSTM(15, input_shape=(n_input, n_features)))\n",
    "model.add(Dense(1))\n",
    "model.compile(optimizer='adam', loss='mse')"
   ]
  },
  {
   "cell_type": "code",
   "execution_count": null,
   "id": "d95edba7-8da1-4b6f-a51c-91268e664c0e",
   "metadata": {},
   "outputs": [],
   "source": [
    "model.summary()"
   ]
  },
  {
   "cell_type": "code",
   "execution_count": null,
   "id": "704acda9-fc8a-48ab-83d7-26a0959e935c",
   "metadata": {},
   "outputs": [],
   "source": [
    "model.fit(generator, epochs=3)"
   ]
  },
  {
   "cell_type": "markdown",
   "id": "f1d3112b-e38c-4bf2-8b44-cea6985084ef",
   "metadata": {},
   "source": [
    "# Performance Evaluation"
   ]
  },
  {
   "cell_type": "markdown",
   "id": "7fd89b5b-f788-4346-b576-e264dc082b72",
   "metadata": {},
   "source": [
    "## RMSE Computation"
   ]
  },
  {
   "cell_type": "code",
   "execution_count": null,
   "id": "7da83ad1-4679-49c9-8bd9-247b4a514799",
   "metadata": {},
   "outputs": [],
   "source": [
    "mse = mean_squared_error(data_test['Force1'], data_test['Predictions'])\n",
    "rmse = sqrt(mean_squared_error(data_test['Force1'], data_test['Predictions']))\n",
    "print(rmse)"
   ]
  },
  {
   "cell_type": "markdown",
   "id": "c202b4bb-4695-4e8f-8423-195e01e03b53",
   "metadata": {},
   "source": [
    "## MAE Computation"
   ]
  },
  {
   "cell_type": "code",
   "execution_count": null,
   "id": "451a1930-6ac9-4169-a31a-7a73bcd6f6f0",
   "metadata": {},
   "outputs": [],
   "source": [
    "mae = mean_absolute_error(data_test['Force1'], data_test['Predictions'])\n",
    "print(mae)"
   ]
  },
  {
   "cell_type": "markdown",
   "id": "f73c6178-e27a-4079-bbc1-36a344ba7578",
   "metadata": {},
   "source": [
    "## Merging predicted values to new Dataset "
   ]
  },
  {
   "cell_type": "code",
   "execution_count": null,
   "id": "1029db09-f423-4a26-8ae4-cd70c27db820",
   "metadata": {},
   "outputs": [],
   "source": [
    "add_dates = [data_F1.index[-1] + pd.DateOffset(seconds=x) for x in range(0,pred_amount + 1)]"
   ]
  },
  {
   "cell_type": "code",
   "execution_count": null,
   "id": "1d7ea3f2-1d13-4646-85cf-9cee624e5b5b",
   "metadata": {},
   "outputs": [],
   "source": [
    "pred_list_new = scaler.inverse_transform(pred_list)"
   ]
  },
  {
   "cell_type": "code",
   "execution_count": null,
   "id": "6b867962-10f2-48d1-be71-b1c724fa87dc",
   "metadata": {},
   "outputs": [],
   "source": [
    "pred_list_new[0][0]"
   ]
  },
  {
   "cell_type": "code",
   "execution_count": null,
   "id": "fd63618b-02ff-4ad0-af32-6e44be216949",
   "metadata": {},
   "outputs": [],
   "source": [
    "pred_list_list = []"
   ]
  },
  {
   "cell_type": "code",
   "execution_count": null,
   "id": "670208c6-9a6b-496e-97b6-ff31c7851ba0",
   "metadata": {},
   "outputs": [],
   "source": [
    "for i in range(pred_amount):\n",
    "    pred_list_list.append(pred_list_new[i][0])"
   ]
  },
  {
   "cell_type": "code",
   "execution_count": null,
   "id": "234236c7-997a-42d8-8e0c-f7b17aa494ff",
   "metadata": {},
   "outputs": [],
   "source": [
    "pred_val = list((zip(add_dates,pred_list_list)))"
   ]
  },
  {
   "cell_type": "code",
   "execution_count": null,
   "id": "a537fe9a-103d-44f2-b942-1b8b52382316",
   "metadata": {},
   "outputs": [],
   "source": [
    "pv = pd.DataFrame(columns=['Timestamp', 'Force1_Diff'], data=pred_val)\n",
    "pv = pv.set_index('Timestamp')"
   ]
  },
  {
   "cell_type": "code",
   "execution_count": null,
   "id": "c7bdc286-3d8d-490d-a6ce-263bf0aa8cfc",
   "metadata": {},
   "outputs": [],
   "source": [
    "df_pred = pd.concat([data_F1, pv], axis=0)"
   ]
  },
  {
   "cell_type": "code",
   "execution_count": null,
   "id": "4397a1bb-4e21-47be-ab5d-2433865914d6",
   "metadata": {},
   "outputs": [],
   "source": [
    "df_pred = df_pred.reset_index(level=0)"
   ]
  },
  {
   "cell_type": "code",
   "execution_count": null,
   "id": "9cda7d84-ed9c-4a10-b061-ed209806acfd",
   "metadata": {},
   "outputs": [],
   "source": [
    "df_pred = df_pred.drop(['Force1_Diff'],axis=1)"
   ]
  },
  {
   "cell_type": "code",
   "execution_count": null,
   "id": "4cd17d0e-2bf9-41b9-bdb0-3dfe7f310797",
   "metadata": {},
   "outputs": [],
   "source": [
    "rev_diff = np.r_[df_pred['Force2'][0], df_pred['Force2']].cumsum()"
   ]
  },
  {
   "cell_type": "code",
   "execution_count": null,
   "id": "1113666f-869d-4807-afe9-c8686d4e47c7",
   "metadata": {},
   "outputs": [],
   "source": [
    "df_rev_diff = pd.DataFrame(columns=['Force2'], data=rev_diff)"
   ]
  },
  {
   "cell_type": "code",
   "execution_count": null,
   "id": "8ffbdbe4-cdab-43f1-a4a3-23e307e756b9",
   "metadata": {},
   "outputs": [],
   "source": [
    "df_pred['Force2'] = df_rev_diff"
   ]
  }
 ],
 "metadata": {
  "kernelspec": {
   "display_name": "hub_serkan_env",
   "language": "python",
   "name": "serkan_env"
  },
  "language_info": {
   "codemirror_mode": {
    "name": "ipython",
    "version": 3
   },
   "file_extension": ".py",
   "mimetype": "text/x-python",
   "name": "python",
   "nbconvert_exporter": "python",
   "pygments_lexer": "ipython3",
   "version": "3.10.2"
  }
 },
 "nbformat": 4,
 "nbformat_minor": 5
}
