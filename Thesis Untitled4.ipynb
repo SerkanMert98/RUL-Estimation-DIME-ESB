{
 "cells": [
  {
   "cell_type": "markdown",
   "id": "ff0acd30-3908-415f-a9ed-55cdb404763b",
   "metadata": {},
   "source": [
    "# Health Indicator Construction"
   ]
  },
  {
   "cell_type": "markdown",
   "id": "420c630a-1720-4a98-9237-da6381250c15",
   "metadata": {},
   "source": [
    "## Time Domain HI's"
   ]
  },
  {
   "cell_type": "code",
   "execution_count": null,
   "id": "fa3539a9-054c-4882-912f-14a7a7471c19",
   "metadata": {},
   "outputs": [],
   "source": [
    "np.std(df_pred['Force1'])\n",
    "np.std(df_pred['Force2'])"
   ]
  },
  {
   "cell_type": "code",
   "execution_count": null,
   "id": "200e55b6-5b1d-4d13-b872-1ce2c0f42789",
   "metadata": {},
   "outputs": [],
   "source": [
    "np.mean(df_pred['Force1'])\n",
    "np.std(df_pred['Force2'])"
   ]
  },
  {
   "cell_type": "code",
   "execution_count": null,
   "id": "ac92dc93-a1cd-49e5-b01d-afbc43e79bf3",
   "metadata": {},
   "outputs": [],
   "source": [
    "rms = np.sqrt(np.mean(df_pred['Force1']**2))\n",
    "print(rms)\n",
    "rms = np.sqrt(np.mean(df_pred['Force2']**2))\n",
    "print(rms)"
   ]
  },
  {
   "cell_type": "code",
   "execution_count": null,
   "id": "cd7d4f1c-64e2-483c-8478-255cebc14a82",
   "metadata": {},
   "outputs": [],
   "source": [
    "sf = rms/np.mean(df_pred['Force1'])\n",
    "print(sf)\n",
    "sf = rms/np.mean(df_pred['Force2'])\n",
    "print(sf)"
   ]
  },
  {
   "cell_type": "code",
   "execution_count": null,
   "id": "5d9fc9b1-41ed-4461-a4f6-700094cfb71e",
   "metadata": {},
   "outputs": [],
   "source": [
    "peakvalue = max(df_pred['Force1'])\n",
    "print(peakvalue)\n",
    "peakvalue = max(df_pred['Force2'])\n",
    "print(peakvalue)"
   ]
  },
  {
   "cell_type": "code",
   "execution_count": null,
   "id": "9f59b420-d5dd-4f3d-95fc-120ff7389ab7",
   "metadata": {},
   "outputs": [],
   "source": [
    "impulseindicator = peakvalue/np.mean(df_pred['Force1'])\n",
    "print(impulseindicator)\n",
    "impulseindicator = peakvalue/np.mean(df_pred['Force2'])\n",
    "print(impulseindicator)"
   ]
  },
  {
   "cell_type": "code",
   "execution_count": null,
   "id": "a57e5df8-f5b4-4a88-8e8f-92bcd62e6490",
   "metadata": {},
   "outputs": [],
   "source": [
    "CrestFactor = peakvalue/rms\n",
    "print(CrestFactor)\n",
    "CrestFactor = peakvalue/rms\n",
    "print(CrestFactor)"
   ]
  },
  {
   "cell_type": "code",
   "execution_count": null,
   "id": "de887f82-8cf8-4f60-8e84-727daa2140c2",
   "metadata": {},
   "outputs": [],
   "source": [
    "df_pred['Force1'].skew()\n",
    "df_pred['Force2'].skew()"
   ]
  },
  {
   "cell_type": "code",
   "execution_count": null,
   "id": "e5d3fe9e-37b5-453f-ad91-850f75231313",
   "metadata": {},
   "outputs": [],
   "source": [
    "df_pred['Force1'].kurt()\n",
    "df_pred['Force2'].kurt()"
   ]
  },
  {
   "cell_type": "markdown",
   "id": "2d6b13e6-a389-470c-9bb7-889057c9c7ca",
   "metadata": {},
   "source": [
    "## Frequency Domain HI's"
   ]
  },
  {
   "cell_type": "code",
   "execution_count": null,
   "id": "51a92262-f5db-4f58-94ae-e795a26c6163",
   "metadata": {},
   "outputs": [],
   "source": [
    "df_pred = df_pred.set_index('Timestamp')"
   ]
  },
  {
   "cell_type": "code",
   "execution_count": null,
   "id": "3c021da6-e642-4856-a2d6-f7302fb90095",
   "metadata": {},
   "outputs": [],
   "source": [
    "from scipy import fftpack\n",
    "df_fft = fftpack.fft(df_pred)"
   ]
  },
  {
   "cell_type": "code",
   "execution_count": null,
   "id": "128894e7-48e4-40c5-a0d7-22773de9881b",
   "metadata": {},
   "outputs": [],
   "source": [
    "Amp = np.abs(df_fft)"
   ]
  },
  {
   "cell_type": "code",
   "execution_count": null,
   "id": "3c5190d9-cedf-4183-82bb-c9b423ea8f33",
   "metadata": {},
   "outputs": [],
   "source": [
    "Power = Amp**2"
   ]
  },
  {
   "cell_type": "code",
   "execution_count": null,
   "id": "1999cebd-027c-448a-8d04-430bb6a3cde3",
   "metadata": {},
   "outputs": [],
   "source": [
    "Angle = np.angle(df_fft)"
   ]
  },
  {
   "cell_type": "code",
   "execution_count": null,
   "id": "3edc288e-8cf8-4c63-9757-5fcfcccd0d9d",
   "metadata": {},
   "outputs": [],
   "source": [
    "sample_freq = fftpack.fftfreq(df_pred.size)"
   ]
  },
  {
   "cell_type": "code",
   "execution_count": null,
   "id": "8a11c54e-c3ec-4e2f-a7dd-238f051918c9",
   "metadata": {},
   "outputs": [],
   "source": [
    "Amp_Freq = np.array([Amp, sample_freq])"
   ]
  },
  {
   "cell_type": "code",
   "execution_count": null,
   "id": "e32402dd-f9f9-4635-9045-fe26c2dbc775",
   "metadata": {},
   "outputs": [],
   "source": [
    "Max_Amp_Position = Amp_Freq[0].argmax()"
   ]
  },
  {
   "cell_type": "code",
   "execution_count": null,
   "id": "e3928f0a-de19-49b8-b5c1-c0d753d8e458",
   "metadata": {},
   "outputs": [],
   "source": [
    "peak_freq = sample_freq[Max_Amp_Position]"
   ]
  },
  {
   "cell_type": "code",
   "execution_count": null,
   "id": "0c700d82-0b4f-4f0a-bc7a-6968bc841b61",
   "metadata": {},
   "outputs": [],
   "source": [
    "print(sample_freq)"
   ]
  },
  {
   "cell_type": "markdown",
   "id": "8299d5f6-9795-46e6-a273-0f9324171233",
   "metadata": {},
   "source": [
    "### Peak Frequency Computation"
   ]
  },
  {
   "cell_type": "code",
   "execution_count": null,
   "id": "5a09722e-1f76-4ae7-87cb-b5715d13f3b1",
   "metadata": {},
   "outputs": [],
   "source": [
    "print(peak_freq)"
   ]
  },
  {
   "cell_type": "markdown",
   "id": "208c8ee0-c1d9-4af9-ae15-a3b1079f4dd0",
   "metadata": {},
   "source": [
    "### Median Frequency Computation"
   ]
  },
  {
   "cell_type": "code",
   "execution_count": null,
   "id": "9750b579-d3c5-4eaf-ac81-530812014507",
   "metadata": {},
   "outputs": [],
   "source": [
    "statistics.median(sample_freq)"
   ]
  },
  {
   "cell_type": "markdown",
   "id": "adcae409-d61d-4cf3-8a6b-c9ab1cdee7a3",
   "metadata": {},
   "source": [
    "### Signal-Noise-Ratio Computation"
   ]
  },
  {
   "cell_type": "code",
   "execution_count": null,
   "id": "1af7b908-ab8a-424a-8c55-19eaff1cf166",
   "metadata": {},
   "outputs": [],
   "source": [
    "import numpy as np\n",
    "import scipy.io\n",
    "\n",
    "def signaltonoise(a, axis=0, ddof=0):\n",
    "    a = np.asanyarray(a)\n",
    "    m = a.mean(axis)\n",
    "    sd = a.std(axis=axis, ddof=ddof)\n",
    "    return np.where(sd == 0, 0, m/sd)\n",
    "\n",
    "dat = df_pred['Force1']\n",
    "arr = dat\n",
    "snr1 = signaltonoise(arr)\n",
    "print(snr1)\n",
    "\n",
    "dat = df_pred['Force2']\n",
    "arr = dat\n",
    "snr2 = signaltonoise(arr)\n",
    "print(snr2)"
   ]
  }
 ],
 "metadata": {
  "kernelspec": {
   "display_name": "hub_serkan_env",
   "language": "python",
   "name": "serkan_env"
  },
  "language_info": {
   "codemirror_mode": {
    "name": "ipython",
    "version": 3
   },
   "file_extension": ".py",
   "mimetype": "text/x-python",
   "name": "python",
   "nbconvert_exporter": "python",
   "pygments_lexer": "ipython3",
   "version": "3.10.2"
  }
 },
 "nbformat": 4,
 "nbformat_minor": 5
}
